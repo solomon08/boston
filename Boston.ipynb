{
 "cells": [
  {
   "cell_type": "markdown",
   "metadata": {},
   "source": [
    "###BOSTON HOUSING"
   ]
  },
  {
   "cell_type": "code",
   "execution_count": 1,
   "metadata": {
    "collapsed": true
   },
   "outputs": [],
   "source": [
    "from sklearn import datasets\n",
    "import pandas as pd\n",
    "from sklearn.preprocessing import StandardScaler\n",
    "from sklearn.cross_validation import train_test_split\n",
    "from sklearn.metrics import mean_squared_error\n",
    "from sklearn.metrics import r2_score\n",
    "from sklearn.linear_model import LinearRegression\n",
    "from sklearn.linear_model import Ridge\n",
    "import numpy as np"
   ]
  },
  {
   "cell_type": "code",
   "execution_count": 2,
   "metadata": {
    "collapsed": false
   },
   "outputs": [
    {
     "name": "stdout",
     "output_type": "stream",
     "text": [
      "Boston House Prices dataset\n",
      "\n",
      "Notes\n",
      "------\n",
      "Data Set Characteristics:  \n",
      "\n",
      "    :Number of Instances: 506 \n",
      "\n",
      "    :Number of Attributes: 13 numeric/categorical predictive\n",
      "    \n",
      "    :Median Value (attribute 14) is usually the target\n",
      "\n",
      "    :Attribute Information (in order):\n",
      "        - CRIM     per capita crime rate by town\n",
      "        - ZN       proportion of residential land zoned for lots over 25,000 sq.ft.\n",
      "        - INDUS    proportion of non-retail business acres per town\n",
      "        - CHAS     Charles River dummy variable (= 1 if tract bounds river; 0 otherwise)\n",
      "        - NOX      nitric oxides concentration (parts per 10 million)\n",
      "        - RM       average number of rooms per dwelling\n",
      "        - AGE      proportion of owner-occupied units built prior to 1940\n",
      "        - DIS      weighted distances to five Boston employment centres\n",
      "        - RAD      index of accessibility to radial highways\n",
      "        - TAX      full-value property-tax rate per $10,000\n",
      "        - PTRATIO  pupil-teacher ratio by town\n",
      "        - B        1000(Bk - 0.63)^2 where Bk is the proportion of blacks by town\n",
      "        - LSTAT    % lower status of the population\n",
      "        - MEDV     Median value of owner-occupied homes in $1000's\n",
      "\n",
      "    :Missing Attribute Values: None\n",
      "\n",
      "    :Creator: Harrison, D. and Rubinfeld, D.L.\n",
      "\n",
      "This is a copy of UCI ML housing dataset.\n",
      "http://archive.ics.uci.edu/ml/datasets/Housing\n",
      "\n",
      "\n",
      "This dataset was taken from the StatLib library which is maintained at Carnegie Mellon University.\n",
      "\n",
      "The Boston house-price data of Harrison, D. and Rubinfeld, D.L. 'Hedonic\n",
      "prices and the demand for clean air', J. Environ. Economics & Management,\n",
      "vol.5, 81-102, 1978.   Used in Belsley, Kuh & Welsch, 'Regression diagnostics\n",
      "...', Wiley, 1980.   N.B. Various transformations are used in the table on\n",
      "pages 244-261 of the latter.\n",
      "\n",
      "The Boston house-price data has been used in many machine learning papers that address regression\n",
      "problems.   \n",
      "     \n",
      "**References**\n",
      "\n",
      "   - Belsley, Kuh & Welsch, 'Regression diagnostics: Identifying Influential Data and Sources of Collinearity', Wiley, 1980. 244-261.\n",
      "   - Quinlan,R. (1993). Combining Instance-Based and Model-Based Learning. In Proceedings on the Tenth International Conference of Machine Learning, 236-243, University of Massachusetts, Amherst. Morgan Kaufmann.\n",
      "   - many more! (see http://archive.ics.uci.edu/ml/datasets/Housing)\n",
      "\n"
     ]
    }
   ],
   "source": [
    "bean = datasets.load_boston()\n",
    "print bean.DESCR"
   ]
  },
  {
   "cell_type": "code",
   "execution_count": 3,
   "metadata": {
    "collapsed": true
   },
   "outputs": [],
   "source": [
    "def load_boston():\n",
    "    scaler = StandardScaler()\n",
    "    boston = datasets.load_boston()\n",
    "    X=boston.data\n",
    "    y=boston.target\n",
    "    X = scaler.fit_transform(X)\n",
    "    return train_test_split(X,y)"
   ]
  },
  {
   "cell_type": "code",
   "execution_count": 4,
   "metadata": {
    "collapsed": true
   },
   "outputs": [],
   "source": [
    "X_train, X_test, y_train, y_test = load_boston()"
   ]
  },
  {
   "cell_type": "code",
   "execution_count": 5,
   "metadata": {
    "collapsed": false
   },
   "outputs": [
    {
     "data": {
      "text/plain": [
       "(379L, 13L)"
      ]
     },
     "execution_count": 5,
     "metadata": {},
     "output_type": "execute_result"
    }
   ],
   "source": [
    "X_train.shape"
   ]
  },
  {
   "cell_type": "markdown",
   "metadata": {},
   "source": [
    "###Fitting a Linear Regression\n",
    "\n",
    "It's as easy as instantiating a new regression object (line 1) and giving your regression object your training data (line 2) by calling .fit(independent variables, dependent variable)"
   ]
  },
  {
   "cell_type": "code",
   "execution_count": 6,
   "metadata": {
    "collapsed": false
   },
   "outputs": [
    {
     "data": {
      "text/plain": [
       "LinearRegression(copy_X=True, fit_intercept=True, n_jobs=1, normalize=False)"
      ]
     },
     "execution_count": 6,
     "metadata": {},
     "output_type": "execute_result"
    }
   ],
   "source": [
    "clf = LinearRegression()\n",
    "clf.fit(X_train, y_train)"
   ]
  },
  {
   "cell_type": "markdown",
   "metadata": {},
   "source": [
    "###Making a Prediction\n",
    "\n",
    "X_test is our holdout set of data. We know the answer (y_test) but the computer does not.\n",
    "\n",
    "Using the command below, create a tuple for each observation, where combining the real value (y_test) with the value our regressor predicts (clf.predict(X_test))"
   ]
  },
  {
   "cell_type": "code",
   "execution_count": 7,
   "metadata": {
    "collapsed": false
   },
   "outputs": [
    {
     "data": {
      "text/plain": [
       "[(9.5999999999999996, 14.448052193143667),\n",
       " (6.2999999999999998, 10.849810681042914),\n",
       " (19.399999999999999, 17.292326347204671),\n",
       " (19.300000000000001, 22.015830004728453),\n",
       " (17.899999999999999, 1.3462553537497008),\n",
       " (8.4000000000000004, 4.7836270222966775),\n",
       " (24.100000000000001, 20.569002980546216),\n",
       " (21.699999999999999, 24.44864081551626),\n",
       " (10.5, 5.8996721819325373),\n",
       " (21.0, 22.879432117924374),\n",
       " (20.0, 20.414869086418314),\n",
       " (21.699999999999999, 22.979057301007998),\n",
       " (14.9, 15.330215979387621),\n",
       " (22.5, 28.879201222800489),\n",
       " (24.5, 20.300578052363289),\n",
       " (32.700000000000003, 30.716383023669653),\n",
       " (8.3000000000000007, 9.7736980950832226),\n",
       " (24.699999999999999, 22.666524403190135),\n",
       " (22.0, 27.508893013760478),\n",
       " (21.0, 21.373444958444349),\n",
       " (21.699999999999999, 21.040331604785191),\n",
       " (14.5, 13.875810160122645),\n",
       " (35.100000000000001, 35.429180667306831),\n",
       " (26.600000000000001, 22.187604308455914),\n",
       " (16.5, 22.481552109035388),\n",
       " (31.600000000000001, 32.873182573981552),\n",
       " (23.899999999999999, 27.539381685936693),\n",
       " (29.899999999999999, 31.735690657241303),\n",
       " (13.4, 13.459323673534616),\n",
       " (20.300000000000001, 22.519423159001864),\n",
       " (21.600000000000001, 25.647403542781479),\n",
       " (22.5, 22.154963346204525),\n",
       " (22.0, 26.140315890068671),\n",
       " (19.699999999999999, 21.418052446808776),\n",
       " (20.600000000000001, 22.1317155386884),\n",
       " (26.699999999999999, 33.942375782809009),\n",
       " (16.399999999999999, 19.203945417627491),\n",
       " (20.600000000000001, 21.97664056448038),\n",
       " (25.0, 27.744943470960571),\n",
       " (17.399999999999999, 17.310905840163088),\n",
       " (23.199999999999999, 22.620695324099596),\n",
       " (19.300000000000001, 21.124885724396027),\n",
       " (8.8000000000000007, 6.2109290225932021),\n",
       " (19.0, 14.172936118083644),\n",
       " (14.9, 17.759864171148742),\n",
       " (34.600000000000001, 34.879363780499204),\n",
       " (23.100000000000001, 16.498566416418861),\n",
       " (22.300000000000001, 27.071615385065751),\n",
       " (18.399999999999999, 15.637584650843696),\n",
       " (17.399999999999999, 22.823510172039501),\n",
       " (23.899999999999999, 24.90060853200432),\n",
       " (24.699999999999999, 24.573410455183257),\n",
       " (12.699999999999999, 12.465214566935412),\n",
       " (19.5, 18.402567566330795),\n",
       " (20.0, 22.180625310910489),\n",
       " (5.5999999999999996, 12.070671185353021),\n",
       " (7.2000000000000002, 9.6913373718261013),\n",
       " (19.100000000000001, 24.58770362756292),\n",
       " (11.699999999999999, 14.203253966951957),\n",
       " (30.699999999999999, 31.622830302674899),\n",
       " (20.199999999999999, 15.610965036043),\n",
       " (13.300000000000001, 13.717660139936939),\n",
       " (32.899999999999999, 30.201735880339928),\n",
       " (22.899999999999999, 24.876403962432981),\n",
       " (20.399999999999999, 19.391646163021804),\n",
       " (9.6999999999999993, 9.7180096216742182),\n",
       " (19.300000000000001, 20.236955416974382),\n",
       " (19.399999999999999, 17.40468186622126),\n",
       " (12.300000000000001, 13.008762977006075),\n",
       " (22.199999999999999, 19.361189461502679),\n",
       " (25.0, 25.08783170771688),\n",
       " (15.0, 15.030145257177598),\n",
       " (25.0, 22.759524880144397),\n",
       " (20.199999999999999, 22.575300492672053),\n",
       " (22.100000000000001, 26.703138492863449),\n",
       " (14.1, 18.881504877329977),\n",
       " (20.600000000000001, 27.01188176430027),\n",
       " (35.200000000000003, 36.111704296221376),\n",
       " (15.6, 15.738921824922063),\n",
       " (20.600000000000001, 15.887216889590995),\n",
       " (17.5, 16.89114928829472),\n",
       " (43.100000000000001, 37.666964793451562),\n",
       " (19.899999999999999, 20.334244062465746),\n",
       " (29.600000000000001, 25.08255555391543),\n",
       " (20.800000000000001, 18.361468346590797),\n",
       " (13.300000000000001, 20.543065839754725),\n",
       " (19.399999999999999, 19.751732485692717),\n",
       " (30.5, 30.31752073084197),\n",
       " (22.0, 20.954727941647803),\n",
       " (43.5, 39.672735019637614),\n",
       " (23.699999999999999, 28.371839262084354),\n",
       " (50.0, 43.064743771969184),\n",
       " (43.799999999999997, 35.449388946844849),\n",
       " (31.600000000000001, 32.814999237977332),\n",
       " (28.199999999999999, 32.60801580086288),\n",
       " (27.100000000000001, 27.884267677409557),\n",
       " (26.199999999999999, 24.165639169489534),\n",
       " (7.2000000000000002, 18.000762038048862),\n",
       " (19.300000000000001, 17.510327906572535),\n",
       " (15.199999999999999, 15.940205352880294),\n",
       " (17.399999999999999, 15.752867086738187),\n",
       " (19.100000000000001, 17.082722430709651),\n",
       " (24.800000000000001, 25.814159576916701),\n",
       " (26.5, 25.585568277187008),\n",
       " (25.100000000000001, 30.807656260401984),\n",
       " (14.4, 3.7690357074334671),\n",
       " (21.699999999999999, 23.143591477394679),\n",
       " (24.399999999999999, 23.801812958268421),\n",
       " (14.1, 17.659736989037782),\n",
       " (22.199999999999999, 24.334077034569127),\n",
       " (23.0, 23.622170297781491),\n",
       " (18.199999999999999, 19.276833462354439),\n",
       " (33.100000000000001, 32.830136987526195),\n",
       " (23.300000000000001, 25.820516758151044),\n",
       " (22.699999999999999, 22.511745909046702),\n",
       " (22.0, 21.86057036383707),\n",
       " (21.399999999999999, 24.802002464765113),\n",
       " (24.0, 30.121163402232476),\n",
       " (14.300000000000001, 16.962966543399826),\n",
       " (22.399999999999999, 23.038863600270957),\n",
       " (14.5, 18.120688896869687),\n",
       " (50.0, 41.530908964437984),\n",
       " (20.300000000000001, 19.988307487556266),\n",
       " (19.800000000000001, 21.704204985961105),\n",
       " (10.9, 13.909292309954171),\n",
       " (34.899999999999999, 34.564789907257314),\n",
       " (50.0, 23.341650594058272)]"
      ]
     },
     "execution_count": 7,
     "metadata": {},
     "output_type": "execute_result"
    }
   ],
   "source": [
    "zip (y_test, clf.predict(X_test))"
   ]
  },
  {
   "cell_type": "markdown",
   "metadata": {},
   "source": [
    "###MEAN SQUARED ERROR\n",
    "\n",
    "Measuring the performance using MSE"
   ]
  },
  {
   "cell_type": "code",
   "execution_count": 8,
   "metadata": {
    "collapsed": false
   },
   "outputs": [
    {
     "data": {
      "text/plain": [
       "19.982177487562005"
      ]
     },
     "execution_count": 8,
     "metadata": {},
     "output_type": "execute_result"
    }
   ],
   "source": [
    "mean_squared_error(y_test, clf.predict(X_test))"
   ]
  },
  {
   "cell_type": "markdown",
   "metadata": {},
   "source": [
    "###R2\n",
    "Measuring the performance sing r2"
   ]
  },
  {
   "cell_type": "code",
   "execution_count": 9,
   "metadata": {
    "collapsed": false
   },
   "outputs": [
    {
     "data": {
      "text/plain": [
       "0.71599637378378111"
      ]
     },
     "execution_count": 9,
     "metadata": {},
     "output_type": "execute_result"
    }
   ],
   "source": [
    "r2_score(y_test, clf.predict(X_test))"
   ]
  },
  {
   "cell_type": "markdown",
   "metadata": {},
   "source": [
    "###L2 Regularization"
   ]
  },
  {
   "cell_type": "code",
   "execution_count": 10,
   "metadata": {
    "collapsed": false
   },
   "outputs": [
    {
     "data": {
      "text/plain": [
       "Ridge(alpha=1.0, copy_X=True, fit_intercept=True, max_iter=None,\n",
       "   normalize=False, solver='auto', tol=0.009)"
      ]
     },
     "execution_count": 10,
     "metadata": {},
     "output_type": "execute_result"
    }
   ],
   "source": [
    "np.random.seed(0)\n",
    "clf = Ridge(alpha=1.0)\n",
    "clf.fit(X_train, y_train) \n",
    "Ridge(alpha=1.0, copy_X=True, fit_intercept=True, max_iter=None, normalize=False, solver='auto', tol=0.009)"
   ]
  },
  {
   "cell_type": "code",
   "execution_count": 11,
   "metadata": {
    "collapsed": false
   },
   "outputs": [
    {
     "data": {
      "text/plain": [
       "0.71607084536404231"
      ]
     },
     "execution_count": 11,
     "metadata": {},
     "output_type": "execute_result"
    }
   ],
   "source": [
    "r2_score(y_test,clf.predict(X_test))"
   ]
  },
  {
   "cell_type": "code",
   "execution_count": 12,
   "metadata": {
    "collapsed": false
   },
   "outputs": [
    {
     "data": {
      "text/plain": [
       "19.976937750469968"
      ]
     },
     "execution_count": 12,
     "metadata": {},
     "output_type": "execute_result"
    }
   ],
   "source": [
    "mean_squared_error(y_test, clf.predict(X_test))"
   ]
  },
  {
   "cell_type": "code",
   "execution_count": null,
   "metadata": {
    "collapsed": true
   },
   "outputs": [],
   "source": []
  }
 ],
 "metadata": {
  "kernelspec": {
   "display_name": "Python 2",
   "language": "python",
   "name": "python2"
  },
  "language_info": {
   "codemirror_mode": {
    "name": "ipython",
    "version": 2
   },
   "file_extension": ".py",
   "mimetype": "text/x-python",
   "name": "python",
   "nbconvert_exporter": "python",
   "pygments_lexer": "ipython2",
   "version": "2.7.10"
  }
 },
 "nbformat": 4,
 "nbformat_minor": 0
}
